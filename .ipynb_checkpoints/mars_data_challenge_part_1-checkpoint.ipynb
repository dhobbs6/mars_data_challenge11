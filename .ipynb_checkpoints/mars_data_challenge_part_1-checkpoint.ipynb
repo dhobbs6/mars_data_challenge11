{
 "cells": [
  {
   "cell_type": "code",
   "execution_count": 1,
   "id": "98c9df0f",
   "metadata": {},
   "outputs": [],
   "source": [
    "# Import Splinter and BeautifulSoup\n",
    "from splinter import Browser\n",
    "from bs4 import BeautifulSoup\n",
    "from webdriver_manager.chrome import ChromeDriverManager"
   ]
  },
  {
   "cell_type": "code",
   "execution_count": 2,
   "id": "7c2c7751",
   "metadata": {},
   "outputs": [],
   "source": [
    "executable_path = {'executable_path': ChromeDriverManager().install()}\n",
    "browser = Browser('chrome', **executable_path, headless=False)"
   ]
  },
  {
   "cell_type": "code",
   "execution_count": 3,
   "id": "926c2f39",
   "metadata": {},
   "outputs": [
    {
     "data": {
      "text/plain": [
       "True"
      ]
     },
     "execution_count": 3,
     "metadata": {},
     "output_type": "execute_result"
    }
   ],
   "source": [
    "# Visit the Mars NASA news site\n",
    "url = 'https://redplanetscience.com'\n",
    "browser.visit(url)\n",
    "# Optional delay for loading the page\n",
    "browser.is_element_present_by_css('div.list_text', wait_time=1)"
   ]
  },
  {
   "cell_type": "code",
   "execution_count": 4,
   "id": "d216117c",
   "metadata": {},
   "outputs": [],
   "source": [
    "html = browser.html\n",
    "soup = BeautifulSoup(html, \"html.parser\")\n"
   ]
  },
  {
   "cell_type": "code",
   "execution_count": 5,
   "id": "81ee2120",
   "metadata": {},
   "outputs": [],
   "source": [
    "# Scrape the Title\n",
    "\n",
    "# Parse the HTML\n",
    "html = browser.html\n",
    "\n",
    "soup = BeautifulSoup(html, \"html.parser\")"
   ]
  },
  {
   "cell_type": "code",
   "execution_count": 6,
   "id": "0301bee7",
   "metadata": {},
   "outputs": [
    {
     "name": "stdout",
     "output_type": "stream",
     "text": [
      "Mars InSight Lander to Push on Top of the 'Mole'\n",
      "NASA's Mars 2020 Rover Completes Its First Drive\n",
      "How NASA's Mars Helicopter Will Reach the Red Planet's Surface\n",
      "NASA's Mars 2020 Rover Goes Coast-to-Coast to Prep for Launch\n",
      "Celebrate Mars Reconnaissance Orbiter's Views From Above\n",
      "InSight's 'Mole' Team Peers into the Pit\n",
      "NASA's Perseverance Rover Bringing 3D-Printed Metal Parts to Mars\n",
      "NASA Updates Mars 2020 Mission Environmental Review\n",
      "A New Video Captures the Science of NASA's Perseverance Mars Rover\n",
      "NASA Mars Mission Connects With Bosnian and Herzegovinian Town\n",
      "5 Hidden Gems Are Riding Aboard NASA's Perseverance Rover\n",
      "NASA's Curiosity Takes Selfie With 'Mary Anning' on the Red Planet\n",
      "Independent Review Indicates NASA Prepared for Mars Sample Return Campaign\n",
      "Robotic Toolkit Added to NASA's Mars 2020 Rover\n",
      "7 Things to Know About the Mars 2020 Perseverance Rover Mission\n"
     ]
    }
   ],
   "source": [
    "titles = soup.find_all('div', class_='content_title')\n",
    "\n",
    "for title in titles:\n",
    "    word = title.text\n",
    "    print(word)"
   ]
  },
  {
   "cell_type": "code",
   "execution_count": 7,
   "id": "f3546898",
   "metadata": {},
   "outputs": [
    {
     "name": "stdout",
     "output_type": "stream",
     "text": [
      "Engineers have a plan for pushing down on the heat probe, which has been stuck at the Martian surface for a year.\n",
      "In a 10-plus-hour marathon, the rover steered, turned and drove in 3-foot (1-meter) increments over small ramps.\n",
      "The small craft will seek to prove that powered, controlled flight is possible on another planet. But just getting it onto the surface of Mars will take a whole lot of ingenuity.\n",
      "The agency's first step in returning rocks from Mars just arrived at Kennedy Space Center. The Mars 2020 team now begins readying for a launch to the Red Planet this July.\n",
      "Marking its 15th anniversary since launch, one of the oldest spacecraft at the Red Planet has provided glimpses of dust devils, avalanches, and more.\n",
      "Efforts to save the heat probe continue.\n",
      "For hobbyists and makers, 3D printing expands creative possibilities; for specialized engineers, it's also key to next-generation spacecraft design.\n",
      "NASA and the Department of Energy have completed a more detailed risk analysis for the Mars 2020 rover launch from Florida.\n",
      "With a targeted launch date of July 30, the next robotic scientist NASA is sending to the to the Red Planet has big ambitions.\n",
      "A letter from NASA was presented to the mayor of Jezero, Bosnia-Herzegovina, honoring the connection between the town and Jezero Crater, the Mars 2020 rover landing site.\n",
      "The symbols, mottos, and small objects added to the agency's newest Mars rover serve a variety of purposes, from functional to decorative.\n",
      "The Mars rover has drilled three samples of rock in this clay-enriched region since arriving in July.\n",
      "NASA released an independent review report Tuesday indicating the agency is well positioned for its Mars Sample Return campaign to bring pristine samples from Mars to Earth for scientific study.\n",
      "The bit carousel, which lies at the heart of the rover's Sample Caching System, is now aboard NASA's newest rover. \n",
      "NASA's next rover to the Red Planet is slated to launch no earlier than July 30. These highlights will get you up to speed on the ambitious mission.\n"
     ]
    }
   ],
   "source": [
    "paragraphs = soup.find_all('div', class_='article_teaser_body')\n",
    "\n",
    "for teaser in paragraphs:\n",
    "    words = teaser.text\n",
    "    print(words)\n"
   ]
  },
  {
   "cell_type": "code",
   "execution_count": 12,
   "id": "faa00d52",
   "metadata": {},
   "outputs": [],
   "source": [
    "text_elems = soup.find_all('div', class_='list_text')\n",
    "news_items = []"
   ]
  },
  {
   "cell_type": "code",
   "execution_count": 13,
   "id": "21466357",
   "metadata": {},
   "outputs": [],
   "source": [
    "for pane in text_elems:\n",
    "    title = pane.find('div', class_='content_title').text\n",
    "    preview = pane.find('div', class_='article_teaser_body').text\n",
    "    news_item = {}\n",
    "    news_item['title'] = title\n",
    "    news_item['preview'] = preview\n",
    "    news_items.append(news_item)"
   ]
  },
  {
   "cell_type": "code",
   "execution_count": 14,
   "id": "b10ea981",
   "metadata": {},
   "outputs": [
    {
     "data": {
      "text/plain": [
       "[{'title': \"Mars InSight Lander to Push on Top of the 'Mole'\",\n",
       "  'preview': 'Engineers have a plan for pushing down on the heat probe, which has been stuck at the Martian surface for a year.'},\n",
       " {'title': \"NASA's Mars 2020 Rover Completes Its First Drive\",\n",
       "  'preview': 'In a 10-plus-hour marathon, the rover steered, turned and drove in 3-foot (1-meter) increments over small ramps.'},\n",
       " {'title': \"How NASA's Mars Helicopter Will Reach the Red Planet's Surface\",\n",
       "  'preview': 'The small craft will seek to prove that powered, controlled flight is possible on another planet. But just getting it onto the surface of Mars will take a whole lot of ingenuity.'},\n",
       " {'title': \"NASA's Mars 2020 Rover Goes Coast-to-Coast to Prep for Launch\",\n",
       "  'preview': \"The agency's first step in returning rocks from Mars just arrived at Kennedy Space Center. The Mars 2020 team now begins readying for a launch to the Red Planet this July.\"},\n",
       " {'title': \"Celebrate Mars Reconnaissance Orbiter's Views From Above\",\n",
       "  'preview': 'Marking its 15th anniversary since launch, one of the oldest spacecraft at the Red Planet has provided glimpses of dust devils, avalanches, and more.'},\n",
       " {'title': \"InSight's 'Mole' Team Peers into the Pit\",\n",
       "  'preview': 'Efforts to save the heat probe continue.'},\n",
       " {'title': \"NASA's Perseverance Rover Bringing 3D-Printed Metal Parts to Mars\",\n",
       "  'preview': \"For hobbyists and makers, 3D printing expands creative possibilities; for specialized engineers, it's also key to next-generation spacecraft design.\"},\n",
       " {'title': 'NASA Updates Mars 2020 Mission Environmental Review',\n",
       "  'preview': 'NASA and the Department of Energy have completed a more detailed risk analysis for the Mars 2020 rover launch from Florida.'},\n",
       " {'title': \"A New Video Captures the Science of NASA's Perseverance Mars Rover\",\n",
       "  'preview': 'With a targeted launch date of July 30, the next robotic scientist NASA is sending to the to the Red Planet has big ambitions.'},\n",
       " {'title': 'NASA Mars Mission Connects With Bosnian and Herzegovinian Town',\n",
       "  'preview': 'A letter from NASA was presented to the mayor of Jezero, Bosnia-Herzegovina, honoring the connection between the town and Jezero Crater, the Mars 2020 rover landing site.'},\n",
       " {'title': \"5 Hidden Gems Are Riding Aboard NASA's Perseverance Rover\",\n",
       "  'preview': \"The symbols, mottos, and small objects added to the agency's newest Mars rover serve a variety of purposes, from functional to decorative.\"},\n",
       " {'title': \"NASA's Curiosity Takes Selfie With 'Mary Anning' on the Red Planet\",\n",
       "  'preview': 'The Mars rover has drilled three samples of rock in this clay-enriched region since arriving in July.'},\n",
       " {'title': 'Independent Review Indicates NASA Prepared for Mars Sample Return Campaign',\n",
       "  'preview': 'NASA released an independent review report Tuesday indicating the agency is well positioned for its Mars Sample Return campaign to bring pristine samples from Mars to Earth for scientific study.'},\n",
       " {'title': \"Robotic Toolkit Added to NASA's Mars 2020 Rover\",\n",
       "  'preview': \"The bit carousel, which lies at the heart of the rover's Sample Caching System, is now aboard NASA's newest rover. \"},\n",
       " {'title': '7 Things to Know About the Mars 2020 Perseverance Rover Mission',\n",
       "  'preview': \"NASA's next rover to the Red Planet is slated to launch no earlier than July 30. These highlights will get you up to speed on the ambitious mission.\"}]"
      ]
     },
     "execution_count": 14,
     "metadata": {},
     "output_type": "execute_result"
    }
   ],
   "source": [
    "news_items"
   ]
  },
  {
   "cell_type": "code",
   "execution_count": null,
   "id": "6c387e61",
   "metadata": {},
   "outputs": [],
   "source": []
  }
 ],
 "metadata": {
  "kernelspec": {
   "display_name": "Python 3 (ipykernel)",
   "language": "python",
   "name": "python3"
  },
  "language_info": {
   "codemirror_mode": {
    "name": "ipython",
    "version": 3
   },
   "file_extension": ".py",
   "mimetype": "text/x-python",
   "name": "python",
   "nbconvert_exporter": "python",
   "pygments_lexer": "ipython3",
   "version": "3.9.13"
  }
 },
 "nbformat": 4,
 "nbformat_minor": 5
}
